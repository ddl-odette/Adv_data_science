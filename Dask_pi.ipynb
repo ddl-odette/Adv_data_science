{
 "cells": [
  {
   "cell_type": "markdown",
   "id": "c5533034",
   "metadata": {},
   "source": [
    "# What is Dask?\n",
    "\n",
    "Dask is a flexible library for parallel computing in Python.\n",
    "\n",
    "Dask is composed of two parts:\n",
    "\n",
    "Dynamic task scheduling optimized for computation. This is similar to Airflow, Luigi, Celery, or Make, but optimized for interactive computational workloads.\n",
    "\n",
    "“Big Data” collections like parallel arrays, dataframes, and lists that extend common interfaces like NumPy, Pandas, or Python iterators to larger-than-memory or distributed environments. These parallel collections run on top of dynamic task schedulers."
   ]
  },
  {
   "cell_type": "markdown",
   "id": "8350965f",
   "metadata": {},
   "source": [
    "### Types of Dask Clusters\n",
    "\n",
    "There are different ways to set up your dask cluster. \n",
    "\n",
    "- Local mode, which allows for parallelism but not distributed computing\n",
    "- Dask Cluster using the Dask Web UI - enables both distributed computing and parallelism, but requires manual input of the scheduler address using the Dask Web UI\n",
    "- Dask Cluster using automatic look up service - this is the easiest to use and enables both distributed computing and parallelism\n"
   ]
  },
  {
   "cell_type": "markdown",
   "id": "7ddcf618",
   "metadata": {},
   "source": [
    "### Setting up the Dask Cluster - Local Mode\n",
    "\n",
    "To set up Dask in local mode (on your laptop, without distributed characteristics), use the code containing the command LocalCluster. "
   ]
  },
  {
   "cell_type": "code",
   "execution_count": 1,
   "id": "b43e21a6",
   "metadata": {},
   "outputs": [],
   "source": [
    "## set up the cluster in local mode if desire parallelism only\n",
    "\n",
    "# from dask.distributed import LocalCluster, Client\n",
    "# cluster = LocalCluster(n_workers = 2)\n",
    "# client = Client(cluster)\n",
    "# client"
   ]
  },
  {
   "cell_type": "markdown",
   "id": "300ae3fc",
   "metadata": {},
   "source": [
    "### Setting up the Dask Cluster - Cluster with Automatic Lookup \n",
    "\n",
    "Setting up the cluster to run in distributed mode requires that the scheduler is called.  One do so with the code below."
   ]
  },
  {
   "cell_type": "code",
   "execution_count": 2,
   "id": "e3cbd4d3",
   "metadata": {},
   "outputs": [
    {
     "name": "stderr",
     "output_type": "stream",
     "text": [
      "/opt/conda/lib/python3.8/site-packages/distributed/client.py:1186: VersionMismatchWarning: Mismatched versions found\n",
      "\n",
      "+-------------+----------------+----------------+----------------+\n",
      "| Package     | client         | scheduler      | workers        |\n",
      "+-------------+----------------+----------------+----------------+\n",
      "| blosc       | 1.9.2          | 1.10.2         | 1.10.2         |\n",
      "| cloudpickle | 1.6.0          | 2.0.0          | 2.0.0          |\n",
      "| dask        | 2021.06.2      | 2022.01.0      | 2022.01.0      |\n",
      "| distributed | 2021.06.2      | 2022.01.0      | 2022.01.0      |\n",
      "| lz4         | 3.1.1          | 3.1.10         | 3.1.10         |\n",
      "| msgpack     | 1.0.0          | 1.0.3          | 1.0.3          |\n",
      "| numpy       | 1.20.3         | 1.21.1         | 1.21.1         |\n",
      "| pandas      | MISSING        | 1.3.0          | 1.3.0          |\n",
      "| python      | 3.8.11.final.0 | 3.8.12.final.0 | 3.8.12.final.0 |\n",
      "| toolz       | 0.11.1         | 0.11.2         | 0.11.2         |\n",
      "+-------------+----------------+----------------+----------------+\n",
      "Notes: \n",
      "-  msgpack: Variation is ok, as long as everything is above 0.6\n",
      "  warnings.warn(version_module.VersionMismatchWarning(msg[0][\"warning\"]))\n"
     ]
    },
    {
     "data": {
      "text/html": [
       "\n",
       "            <div>\n",
       "                <div style=\"\n",
       "                    width: 24px;\n",
       "                    height: 24px;\n",
       "                    background-color: #e1e1e1;\n",
       "                    border: 3px solid #9D9D9D;\n",
       "                    border-radius: 5px;\n",
       "                    position: absolute;\"> </div>\n",
       "                <div style=\"margin-left: 48px;\">\n",
       "                    <h3 style=\"margin-bottom: 0px;\">Client</h3>\n",
       "                    <p style=\"color: #9D9D9D; margin-bottom: 0px;\">Client-5cbdbe3c-4333-11ed-81e3-e6543e4f0ff0</p>\n",
       "                    <table style=\"width: 100%; text-align: left;\">\n",
       "                    \n",
       "                <tr>\n",
       "                    <td style=\"text-align: left;\"><strong>Connection method:</strong> Direct</td>\n",
       "                    <td style=\"text-align: left;\"></td>\n",
       "                </tr>\n",
       "                \n",
       "                <tr>\n",
       "                    <td style=\"text-align: left;\">\n",
       "                        <strong>Dashboard: </strong>\n",
       "                        <a href=\"http://dask-633b0445cbb8c95f99ad4172-dask-scheduler.domino-compute.svc.cluster.local:8787/status\">http://dask-633b0445cbb8c95f99ad4172-dask-scheduler.domino-compute.svc.cluster.local:8787/status</a>\n",
       "                    </td>\n",
       "                    <td style=\"text-align: left;\"></td>\n",
       "                </tr>\n",
       "                \n",
       "                    </table>\n",
       "                    \n",
       "                <details>\n",
       "                <summary style=\"margin-bottom: 20px;\"><h3 style=\"display: inline;\">Scheduler Info</h3></summary>\n",
       "                \n",
       "        <div style=\"\">\n",
       "            \n",
       "            <div>\n",
       "                <div style=\"\n",
       "                    width: 24px;\n",
       "                    height: 24px;\n",
       "                    background-color: #FFF7E5;\n",
       "                    border: 3px solid #FF6132;\n",
       "                    border-radius: 5px;\n",
       "                    position: absolute;\"> </div>\n",
       "                <div style=\"margin-left: 48px;\">\n",
       "                    <h3 style=\"margin-bottom: 0px;\">Scheduler</h3>\n",
       "                    <p style=\"color: #9D9D9D; margin-bottom: 0px;\">Scheduler-b42a4eed-e2f8-457a-adad-e64a924fa99e</p>\n",
       "                    <table style=\"width: 100%; text-align: left;\">\n",
       "                        <tr>\n",
       "                            <td style=\"text-align: left;\"><strong>Comm:</strong> tcp://10.0.102.170:8786</td>\n",
       "                            <td style=\"text-align: left;\"><strong>Workers:</strong> 2</td>\n",
       "                        </tr>\n",
       "                        <tr>\n",
       "                            <td style=\"text-align: left;\">\n",
       "                                <strong>Dashboard:</strong> <a href=\"http://10.0.102.170:8787/status\">http://10.0.102.170:8787/status</a>\n",
       "                            </td>\n",
       "                            <td style=\"text-align: left;\">\n",
       "                                <strong>Total threads:</strong>\n",
       "                                2\n",
       "                            </td>\n",
       "                        </tr>\n",
       "                        <tr>\n",
       "                            <td style=\"text-align: left;\">\n",
       "                                <strong>Started:</strong>\n",
       "                                3 minutes ago\n",
       "                            </td>\n",
       "                            <td style=\"text-align: left;\">\n",
       "                                <strong>Total memory:</strong>\n",
       "                                8.00 GiB\n",
       "                            </td>\n",
       "                        </tr>\n",
       "                    </table>\n",
       "                </div>\n",
       "            </div>\n",
       "        \n",
       "            <details style=\"margin-left: 48px;\">\n",
       "            <summary style=\"margin-bottom: 20px;\"><h3 style=\"display: inline;\">Workers</h3></summary>\n",
       "            \n",
       "            <div style=\"margin-bottom: 20px;\">\n",
       "                <div style=\"width: 24px;\n",
       "                            height: 24px;\n",
       "                            background-color: #DBF5FF;\n",
       "                            border: 3px solid #4CC9FF;\n",
       "                            border-radius: 5px;\n",
       "                            position: absolute;\"> </div>\n",
       "                <div style=\"margin-left: 48px;\">\n",
       "                <details>\n",
       "                    <summary>\n",
       "                        <h4 style=\"margin-bottom: 0px; display: inline;\">Worker: dask-633b0445cbb8c95f99ad4172-dask-worker-0</h4>\n",
       "                    </summary>\n",
       "                    <table style=\"width: 100%; text-align: left;\">\n",
       "                        <tr>\n",
       "                            <td style=\"text-align: left;\"><strong>Comm: </strong> tcp://10.0.113.105:3000</td>\n",
       "                            <td style=\"text-align: left;\"><strong>Total threads: </strong> 1</td>\n",
       "                        </tr>\n",
       "                        <tr>\n",
       "                            <td style=\"text-align: left;\">\n",
       "                                <strong>Dashboard: </strong>\n",
       "                                <a href=\"http://10.0.113.105:8787/status\">http://10.0.113.105:8787/status</a>\n",
       "                            </td>\n",
       "                            <td style=\"text-align: left;\">\n",
       "                                <strong>Memory: </strong>\n",
       "                                4.00 GiB\n",
       "                            </td>\n",
       "                        </tr>\n",
       "                        <tr>\n",
       "                            <td style=\"text-align: left;\"><strong>Nanny: </strong> tcp://10.0.113.105:3001</td>\n",
       "                            <td style=\"text-align: left;\"></td>\n",
       "                        </tr>\n",
       "                        <tr>\n",
       "                            <td colspan=\"2\" style=\"text-align: left;\">\n",
       "                                <strong>Local directory: </strong>\n",
       "                                /tmp/dask-worker-space/worker-80u6a1z0\n",
       "                            </td>\n",
       "                        </tr>\n",
       "                        \n",
       "                        \n",
       "                <tr>\n",
       "                    <td style=\"text-align: left;\">\n",
       "                        <strong>Tasks executing: </strong> 0\n",
       "                    </td>\n",
       "                    <td style=\"text-align: left;\">\n",
       "                        <strong>Tasks in memory: </strong> 0\n",
       "                    </td>\n",
       "                </tr>\n",
       "                <tr>\n",
       "                    <td style=\"text-align: left;\">\n",
       "                        <strong>Tasks ready: </strong> 0\n",
       "                    </td>\n",
       "                    <td style=\"text-align: left;\">\n",
       "                        <strong>Tasks in flight: </strong>0\n",
       "                    </td>\n",
       "                </tr>\n",
       "                <tr>\n",
       "                    <td style=\"text-align: left;\"><strong>CPU usage:</strong> 0.0%</td>\n",
       "                    <td style=\"text-align: left;\">\n",
       "                        <strong>Last seen: </strong>\n",
       "                        Just now\n",
       "                    </td>\n",
       "                </tr>\n",
       "                <tr>\n",
       "                    <td style=\"text-align: left;\">\n",
       "                        <strong>Memory usage: </strong>\n",
       "                        127.48 MiB\n",
       "                    </td>\n",
       "                    <td style=\"text-align: left;\">\n",
       "                        <strong>Spilled bytes: </strong>\n",
       "                        0 B\n",
       "                    </td>\n",
       "                </tr>\n",
       "                <tr>\n",
       "                    <td style=\"text-align: left;\">\n",
       "                        <strong>Read bytes: </strong>\n",
       "                        286.599396205787 B\n",
       "                    </td>\n",
       "                    <td style=\"text-align: left;\">\n",
       "                        <strong>Write bytes: </strong>\n",
       "                        0.95 kiB\n",
       "                    </td>\n",
       "                </tr>\n",
       "                \n",
       "                    </table>\n",
       "                </details>\n",
       "                </div>\n",
       "            </div>\n",
       "            \n",
       "            <div style=\"margin-bottom: 20px;\">\n",
       "                <div style=\"width: 24px;\n",
       "                            height: 24px;\n",
       "                            background-color: #DBF5FF;\n",
       "                            border: 3px solid #4CC9FF;\n",
       "                            border-radius: 5px;\n",
       "                            position: absolute;\"> </div>\n",
       "                <div style=\"margin-left: 48px;\">\n",
       "                <details>\n",
       "                    <summary>\n",
       "                        <h4 style=\"margin-bottom: 0px; display: inline;\">Worker: dask-633b0445cbb8c95f99ad4172-dask-worker-1</h4>\n",
       "                    </summary>\n",
       "                    <table style=\"width: 100%; text-align: left;\">\n",
       "                        <tr>\n",
       "                            <td style=\"text-align: left;\"><strong>Comm: </strong> tcp://10.0.101.3:3000</td>\n",
       "                            <td style=\"text-align: left;\"><strong>Total threads: </strong> 1</td>\n",
       "                        </tr>\n",
       "                        <tr>\n",
       "                            <td style=\"text-align: left;\">\n",
       "                                <strong>Dashboard: </strong>\n",
       "                                <a href=\"http://10.0.101.3:8787/status\">http://10.0.101.3:8787/status</a>\n",
       "                            </td>\n",
       "                            <td style=\"text-align: left;\">\n",
       "                                <strong>Memory: </strong>\n",
       "                                4.00 GiB\n",
       "                            </td>\n",
       "                        </tr>\n",
       "                        <tr>\n",
       "                            <td style=\"text-align: left;\"><strong>Nanny: </strong> tcp://10.0.101.3:3001</td>\n",
       "                            <td style=\"text-align: left;\"></td>\n",
       "                        </tr>\n",
       "                        <tr>\n",
       "                            <td colspan=\"2\" style=\"text-align: left;\">\n",
       "                                <strong>Local directory: </strong>\n",
       "                                /tmp/dask-worker-space/worker-1hoy7niz\n",
       "                            </td>\n",
       "                        </tr>\n",
       "                        \n",
       "                        \n",
       "                <tr>\n",
       "                    <td style=\"text-align: left;\">\n",
       "                        <strong>Tasks executing: </strong> 0\n",
       "                    </td>\n",
       "                    <td style=\"text-align: left;\">\n",
       "                        <strong>Tasks in memory: </strong> 0\n",
       "                    </td>\n",
       "                </tr>\n",
       "                <tr>\n",
       "                    <td style=\"text-align: left;\">\n",
       "                        <strong>Tasks ready: </strong> 0\n",
       "                    </td>\n",
       "                    <td style=\"text-align: left;\">\n",
       "                        <strong>Tasks in flight: </strong>0\n",
       "                    </td>\n",
       "                </tr>\n",
       "                <tr>\n",
       "                    <td style=\"text-align: left;\"><strong>CPU usage:</strong> 2.0%</td>\n",
       "                    <td style=\"text-align: left;\">\n",
       "                        <strong>Last seen: </strong>\n",
       "                        Just now\n",
       "                    </td>\n",
       "                </tr>\n",
       "                <tr>\n",
       "                    <td style=\"text-align: left;\">\n",
       "                        <strong>Memory usage: </strong>\n",
       "                        128.72 MiB\n",
       "                    </td>\n",
       "                    <td style=\"text-align: left;\">\n",
       "                        <strong>Spilled bytes: </strong>\n",
       "                        0 B\n",
       "                    </td>\n",
       "                </tr>\n",
       "                <tr>\n",
       "                    <td style=\"text-align: left;\">\n",
       "                        <strong>Read bytes: </strong>\n",
       "                        286.0050459798342 B\n",
       "                    </td>\n",
       "                    <td style=\"text-align: left;\">\n",
       "                        <strong>Write bytes: </strong>\n",
       "                        132.00232891376965 B\n",
       "                    </td>\n",
       "                </tr>\n",
       "                \n",
       "                    </table>\n",
       "                </details>\n",
       "                </div>\n",
       "            </div>\n",
       "            \n",
       "            </details>\n",
       "        </div>\n",
       "        \n",
       "                </details>\n",
       "                \n",
       "                </div>\n",
       "            </div>\n",
       "        "
      ],
      "text/plain": [
       "<Client: 'tcp://10.0.102.170:8786' processes=2 threads=2, memory=8.00 GiB>"
      ]
     },
     "execution_count": 2,
     "metadata": {},
     "output_type": "execute_result"
    }
   ],
   "source": [
    "from dask.distributed import Client\n",
    "import os\n",
    "\n",
    "service_host = os.environ[\"DASK_SCHEDULER_SERVICE_HOST\"]\n",
    "service_port = os.environ[\"DASK_SCHEDULER_SERVICE_PORT\"]\n",
    "client = Client(f\"{service_host}:{service_port}\")\n",
    "\n",
    "# look at the client and scheduler\n",
    "\n",
    "client\n",
    "\n",
    "# you should now be connected to the cluster\n",
    "# Dashboard link from the client object is clickable but will not route in Domino\n",
    "# Use the embedded Dask Web UI tab instead"
   ]
  },
  {
   "cell_type": "markdown",
   "id": "86cdb146",
   "metadata": {},
   "source": [
    "### What can Dask do?\n",
    "\n",
    "Dask is a distributed computing api that excels at machine learning at scale.  \n",
    "While executing this tutorial, the tab on the top right of the screen 'Dask Web UI' will enable real-time monitoring of the executions, so you can understand how the compute resources are being used.\n",
    "\n",
    "We can see that user CPU times are greatly reduced even on a small task like calculating pi.  However wall-clock time (the amount of time that passes by as we experienced it) does not get reduced until the data is large.  When data is so large that it will not fit onto a single node, Dask can still do its job.  \n",
    "\n",
    "This follows the old adage, don't distribute until you need to do so because you won't notice much of a speed-up in time for small tasks.\n",
    "\n",
    "Let's look at calculating pi to see what what is going on here. \n",
    "\n",
    "First we'll import the libraries we need."
   ]
  },
  {
   "cell_type": "code",
   "execution_count": 3,
   "id": "ce683638",
   "metadata": {},
   "outputs": [],
   "source": [
    "import dask\n",
    "import dask.array as da\n",
    "import numpy as np\n",
    "import dask.dataframe as dd\n",
    "import pandas as pd\n",
    "import time\n",
    "import seaborn as sn\n",
    "import time"
   ]
  },
  {
   "cell_type": "markdown",
   "id": "4ef2c295",
   "metadata": {},
   "source": [
    "### Calculating Pi without and with using Dask: Watch for how the Code Is Written\n",
    "\n",
    "Let's calculate pi without using Dask and see how long it takes for the cpu (pay attention to total cpu time), the user and the wall-clock time.  This is showing why dask code needs to be written correctly.  "
   ]
  },
  {
   "cell_type": "code",
   "execution_count": 4,
   "id": "6bf90f41",
   "metadata": {},
   "outputs": [],
   "source": [
    "\n",
    "##Compute pi without dask\n",
    "\n",
    "def pi(N):\n",
    "    time.sleep(10)\n",
    "\n",
    "    # Initialize denominator\n",
    "    k = 1\n",
    "\n",
    "    # Initialize sum\n",
    "    s = 0\n",
    "\n",
    "    for i in range(N):\n",
    "\n",
    "        # even index elements are positive\n",
    "            if i % 2 == 0:\n",
    "                s += 4/k\n",
    "            else:\n",
    "                s -= 4/k\n",
    "\n",
    "        # denominator is odd\n",
    "            k += 2\n",
    "    return s\n"
   ]
  },
  {
   "cell_type": "code",
   "execution_count": 5,
   "id": "08b87989",
   "metadata": {},
   "outputs": [
    {
     "name": "stdout",
     "output_type": "stream",
     "text": [
      "CPU times: user 1.23 s, sys: 0 ns, total: 1.23 s\n",
      "Wall time: 11.2 s\n"
     ]
    },
    {
     "data": {
      "text/plain": [
       "3.1415925535897915"
      ]
     },
     "execution_count": 5,
     "metadata": {},
     "output_type": "execute_result"
    }
   ],
   "source": [
    "%%time\n",
    "pi(10**7)"
   ]
  },
  {
   "cell_type": "markdown",
   "id": "c2823f35",
   "metadata": {},
   "source": [
    "### Calculating Pi Using Dask the Wrong Way \n",
    "\n",
    "To calculate pi using dask, we can use the decorator function @dask.delayed or just delayed and the compute function to retrieve the output of our pi calculation. We can also use the client function to compute pi.  The delayed function will run tasks in parallel and is especially helpful for custom algorithms.  The client function will run dasks in parallel and distribute them in the cluster.  Although in the example below all of our code runs, and we call the right functions, this is not the most effective way to write code for dask.\n",
    "\n",
    "What do we mean by right and wrong way? \n",
    "\n",
    "*Dask will be looking to spread individual tasks over different workers.* \n",
    "\n",
    "Wrong: If we have one large function, it will send that one large task to one worker. \n",
    "Right: If we split the calculation into smaller functions, dask will be able to send those smaller tasks to multiple workers and then compile the results at the end. \n",
    "\n",
    "Take a close look at the total cpu time and total wall clock time.  The CPU time is at many times less when using Dask, but the wall clock time is the same.  \n",
    "\n",
    "What do you think is wrong with the code in this procedure?  Why doesn't the wall-clock time improve? Hint: Is Dask creating a 'future calculation' that is performed once the function is actually called?  In otherwords at runtime calculation?"
   ]
  },
  {
   "cell_type": "code",
   "execution_count": 6,
   "id": "19eef08a",
   "metadata": {},
   "outputs": [],
   "source": [
    "\n",
    "## define function for pi without Dask, same function as defined earlier; \n",
    "\n",
    "\n",
    "def pi(N):\n",
    "    time.sleep(10)\n",
    "\n",
    "    # Initialize denominator\n",
    "    k = 1\n",
    "\n",
    "    # Initialize sum\n",
    "    s = 0\n",
    "\n",
    "    for i in range(N):\n",
    "\n",
    "        # even index elements are positive\n",
    "            if i % 2 == 0:\n",
    "                s += 4/k\n",
    "            else:\n",
    "                s -= 4/k\n",
    "\n",
    "        # denominator is odd\n",
    "            k += 2\n",
    "    return s\n"
   ]
  },
  {
   "cell_type": "code",
   "execution_count": 7,
   "id": "3351b937",
   "metadata": {},
   "outputs": [
    {
     "name": "stdout",
     "output_type": "stream",
     "text": [
      "3.1415925535897915\n",
      "CPU times: user 9.87 ms, sys: 1.22 ms, total: 11.1 ms\n",
      "Wall time: 11.2 s\n"
     ]
    }
   ],
   "source": [
    "%%time\n",
    "\n",
    "#Use the client to execute the original pi function\n",
    "\n",
    "pi_client = client.submit(pi, 10**7)\n",
    "pi_client = pi_client.result()\n",
    "print(pi_client)"
   ]
  },
  {
   "cell_type": "code",
   "execution_count": 8,
   "id": "8d9ebeb3",
   "metadata": {},
   "outputs": [
    {
     "name": "stdout",
     "output_type": "stream",
     "text": [
      "CPU times: user 11.1 ms, sys: 1.12 ms, total: 12.2 ms\n",
      "Wall time: 11.2 s\n"
     ]
    },
    {
     "data": {
      "text/plain": [
       "3.1415925535897915"
      ]
     },
     "execution_count": 8,
     "metadata": {},
     "output_type": "execute_result"
    }
   ],
   "source": [
    "%%time\n",
    "\n",
    "#Use dask delayed to execute the original pi function\n",
    "\n",
    "from dask import delayed\n",
    "\n",
    "pi = delayed(pi)(10**7)\n",
    "pi.compute()"
   ]
  },
  {
   "cell_type": "markdown",
   "id": "93d1dac1",
   "metadata": {},
   "source": [
    "So we can see above that the fast calculations happen when calling pi with or without Dask (using the delayed or submit methods) with a wall-clock time is about 11 seconds.  What's the problem here?  Why isn't Dask making the code run faster?"
   ]
  },
  {
   "cell_type": "markdown",
   "id": "d1b7421d",
   "metadata": {},
   "source": [
    "### Speeding up the calculation of Pi, we need to write the code so it can be parallelized or distributed.\n",
    "\n",
    "Here we create a function that can be run with only using only 1 term at a time, a iterating over a list and a single calculation (sum function).  \n",
    "This function of pi will run in parallel on Dask.  You will notice an immediate time improvement.  \n",
    "You'll notice that a single task is given in the routine which takes in a single term.  \n",
    "Note: This is not the only way to parallelize a function, but in this case it is effective because it breaks larger tasks into smaller ones that can be run in parallel. In the code below you see how calculate pi in three ways, two of which use Dask.  The methods we show are correct and work:\n",
    "\n",
    "- without Dask\n",
    "\n",
    "- with paralellism and using futures (```delay``` function)\n",
    "\n",
    "- with paralellism and distributed on the cluster (```client``` function)\n",
    "\n",
    "Which way is fastest?  Why do you think so?  Hint: using the client function will distribute tasks over a cluster."
   ]
  },
  {
   "cell_type": "code",
   "execution_count": 9,
   "id": "cc0cd186",
   "metadata": {},
   "outputs": [],
   "source": [
    "#Write a pi function that only computes one term at a time vs. earlier where the entire calculation \n",
    "# was defined within the function\n",
    "\n",
    "def pi_single_term(i):\n",
    "    time.sleep(0.01)\n",
    "    # denominator is odd\n",
    "    k = 2*i + 1\n",
    "    # even index elements are positive\n",
    "    if i % 2 == 0:\n",
    "        x = 4/k\n",
    "    # odd index elements are negative    \n",
    "    else:\n",
    "        x = - 4/k\n",
    "    return x"
   ]
  },
  {
   "cell_type": "code",
   "execution_count": 10,
   "id": "6f4ee8e5",
   "metadata": {},
   "outputs": [
    {
     "name": "stdout",
     "output_type": "stream",
     "text": [
      "CPU times: user 20.7 ms, sys: 0 ns, total: 20.7 ms\n",
      "Wall time: 10.1 s\n"
     ]
    },
    {
     "data": {
      "text/plain": [
       "3.140592653839794"
      ]
     },
     "execution_count": 10,
     "metadata": {},
     "output_type": "execute_result"
    }
   ],
   "source": [
    "%%time\n",
    "## compute pi without Dask, using the new function \n",
    "s = []\n",
    "for i in range(10**3):\n",
    "    s.append(pi_single_term(i))\n",
    "sum(s)"
   ]
  },
  {
   "cell_type": "code",
   "execution_count": 11,
   "id": "67d1ecf7",
   "metadata": {},
   "outputs": [
    {
     "name": "stdout",
     "output_type": "stream",
     "text": [
      "CPU times: user 78.8 ms, sys: 18.2 ms, total: 97 ms\n",
      "Wall time: 5.62 s\n"
     ]
    },
    {
     "data": {
      "text/plain": [
       "3.140592653839794"
      ]
     },
     "execution_count": 11,
     "metadata": {},
     "output_type": "execute_result"
    }
   ],
   "source": [
    "%%time\n",
    "## compute pi with Dask using Delayed\n",
    "\n",
    "s = []\n",
    "for i in range(10**3):\n",
    "    s.append(dask.delayed(pi_single_term)(i))\n",
    "dask.delayed(sum)(s).compute()"
   ]
  },
  {
   "cell_type": "code",
   "execution_count": 12,
   "id": "3921d68d",
   "metadata": {},
   "outputs": [
    {
     "name": "stdout",
     "output_type": "stream",
     "text": [
      "CPU times: user 313 ms, sys: 43.9 ms, total: 357 ms\n",
      "Wall time: 5.59 s\n"
     ]
    },
    {
     "data": {
      "text/plain": [
       "3.140592653839794"
      ]
     },
     "execution_count": 12,
     "metadata": {},
     "output_type": "execute_result"
    }
   ],
   "source": [
    "%%time\n",
    "## compute pi with Dask using Client\n",
    "\n",
    "s=[]\n",
    "for i in range(10**3):\n",
    "    s.append(client.submit(pi_single_term, i))\n",
    "client.submit(sum, s).result()"
   ]
  },
  {
   "cell_type": "code",
   "execution_count": null,
   "id": "87bcdb24",
   "metadata": {},
   "outputs": [],
   "source": []
  }
 ],
 "metadata": {
  "kernelspec": {
   "display_name": "Python 3 (ipykernel)",
   "language": "python",
   "name": "python3"
  },
  "language_info": {
   "codemirror_mode": {
    "name": "ipython",
    "version": 3
   },
   "file_extension": ".py",
   "mimetype": "text/x-python",
   "name": "python",
   "nbconvert_exporter": "python",
   "pygments_lexer": "ipython3",
   "version": "3.8.12"
  }
 },
 "nbformat": 4,
 "nbformat_minor": 5
}
